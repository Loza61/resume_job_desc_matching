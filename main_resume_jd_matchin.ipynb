{
 "cells": [
  {
   "cell_type": "code",
   "execution_count": 90,
   "metadata": {},
   "outputs": [],
   "source": [
    "from sklearn.model_selection import train_test_split\n",
    "from gensim.models.doc2vec import Doc2Vec, TaggedDocument\n",
    "import PyPDF2\n",
    "from tqdm import tqdm\n",
    "from collections import Counter\n",
    "import json\n",
    "import re\n",
    "import string\n",
    "import gzip\n",
    "import numpy as np\n",
    "from nltk.tokenize import word_tokenize\n"
   ]
  },
  {
   "cell_type": "code",
   "execution_count": 91,
   "metadata": {},
   "outputs": [],
   "source": [
    "def filter_punctuation(tokens):\n",
    "    punct = string.punctuation\n",
    "    return [word   for word in tokens   if word not in punct ]\n"
   ]
  },
  {
   "cell_type": "code",
   "execution_count": 92,
   "metadata": {},
   "outputs": [],
   "source": [
    "def read_and_clean_jds(infile):\n",
    "    print(\"\\nReading and cleaning text from {}\".format(infile))\n",
    "    jds = []\n",
    "    categories = []\n",
    "    with gzip.open(infile,'rt') as f:\n",
    "        for line in tqdm(f):\n",
    "            \n",
    "            json_line = json.loads(line)\n",
    "            category = json_line['category']\n",
    "            category = re.sub(r'\\/','_',category)\n",
    "            jd = json_line['job_description']\n",
    "            jd_text = jd.translate(str.maketrans('','',string.punctuation))\n",
    "            jd_text = re.sub(r'\\s+', ' ', jd_text)\n",
    "            jd_tokens = filter_punctuation(word_tokenize(jd_text.lower()))\n",
    "            category_text = re.sub(r'\\s+', '_', category)\n",
    "            categories.append(category_text.lower())\n",
    "            jds.append(jd_tokens)\n",
    "            \n",
    "    return jds, categories"
   ]
  },
  {
   "cell_type": "code",
   "execution_count": 93,
   "metadata": {},
   "outputs": [],
   "source": [
    "def read_and_clean_resume_pdf(filename):\n",
    "    # resume_path = 'resume1.pdf'\n",
    "    resume_text = ''\n",
    "    pdfReader = PyPDF2.PdfFileReader(filename)\n",
    "    for i in range(pdfReader.numPages):\n",
    "        pageObj = pdfReader.getPage(i)\n",
    "        resume_text += pageObj.extractText()\n",
    "    \n",
    "    # pre normalize tokenization\n",
    "    resume_text = resume_text.lower()\n",
    "    resume_text = re.sub('[^a-z]', ' ', resume_text) \n",
    "    resume_text = re.sub(r'\\s+', ' ', resume_text)\n",
    "    return resume_text"
   ]
  },
  {
   "cell_type": "code",
   "execution_count": 94,
   "metadata": {},
   "outputs": [],
   "source": [
    "def split_training_set(jds, labels, test_size=0.3, random_seed=42):\n",
    "    X_train, X_test, y_train, y_test = train_test_split(jds, labels, test_size=test_size, random_state=random_seed, stratify=labels)\n",
    "    print(\"Training set label counts: {}\".format(Counter(y_train)))\n",
    "    print(\"Test set     label counts: {}\".format(Counter(y_test)))\n",
    "    return X_train, X_test, y_train, y_test"
   ]
  },
  {
   "cell_type": "code",
   "execution_count": 59,
   "metadata": {},
   "outputs": [
    {
     "name": "stdout",
     "output_type": "stream",
     "text": [
      "\n",
      "Reading and cleaning text from small_indeed_jd.ldjson.gz\n"
     ]
    },
    {
     "name": "stderr",
     "output_type": "stream",
     "text": [
      "987it [00:01, 508.69it/s]"
     ]
    },
    {
     "name": "stdout",
     "output_type": "stream",
     "text": [
      "987 987\n"
     ]
    },
    {
     "name": "stderr",
     "output_type": "stream",
     "text": [
      "\n"
     ]
    }
   ],
   "source": [
    "job_description_data = 'small_indeed_jd.ldjson.gz'\n",
    "jds, categories = read_and_clean_jds(job_description_data)\n",
    "print(len(jds), len(categories))"
   ]
  },
  {
   "cell_type": "code",
   "execution_count": 95,
   "metadata": {},
   "outputs": [
    {
     "name": "stdout",
     "output_type": "stream",
     "text": [
      "Training set label counts: Counter({'healthcare': 87, 'administrative': 79, 'construction_facilities': 57, 'manufacturing_mechanical': 50, 'computer_internet': 49, 'sales': 48, 'restaurant_food_service': 43, 'transportation_logistics': 40, 'customer_service': 37, 'education_training': 23, 'accounting_finance': 22, 'retail': 22, 'engineering_architecture': 20, 'human_resources': 20, 'marketing_advertising_pr': 16, 'upper_management_consulting': 15, 'arts_entertainment_publishing': 10, 'hospitality_travel': 8, 'banking_loans': 8, 'insurance': 6, 'telecommunications': 6, 'non-profit_volunteering': 6, 'law_enforcement_security': 6, 'real_estate': 4, 'government_military': 4, 'pharmaceutical_bio-tech': 3, 'legal': 1})\n",
      "Test set     label counts: Counter({'healthcare': 37, 'administrative': 34, 'construction_facilities': 24, 'manufacturing_mechanical': 21, 'computer_internet': 21, 'sales': 21, 'restaurant_food_service': 18, 'transportation_logistics': 17, 'customer_service': 16, 'education_training': 10, 'human_resources': 9, 'accounting_finance': 9, 'engineering_architecture': 9, 'retail': 9, 'marketing_advertising_pr': 7, 'upper_management_consulting': 7, 'banking_loans': 4, 'arts_entertainment_publishing': 4, 'hospitality_travel': 4, 'telecommunications': 3, 'law_enforcement_security': 3, 'non-profit_volunteering': 3, 'insurance': 2, 'real_estate': 2, 'government_military': 1, 'pharmaceutical_bio-tech': 1, 'legal': 1})\n"
     ]
    }
   ],
   "source": [
    "X_train, X_test, y_train, y_test = split_training_set(jds, categories)\n"
   ]
  },
  {
   "cell_type": "code",
   "execution_count": 96,
   "metadata": {},
   "outputs": [],
   "source": [
    "\n",
    "def tag_document(list_of_list_of_words):\n",
    "    for i, list_of_words in enumerate(list_of_list_of_words):\n",
    "        \n",
    "        yield TaggedDocument(list_of_words, [i])"
   ]
  },
  {
   "cell_type": "code",
   "execution_count": 46,
   "metadata": {},
   "outputs": [],
   "source": [
    "def train_model(data):\n",
    "    \n",
    "    # tagged_data = [TaggedDocument(words = word_tokenize(_d.lower()), tags = [str(i)]) for i, _d in enumerate(data)]\n",
    "\n",
    "    tagged_data = list(tag_document(data))\n",
    "    # initialize model\n",
    "    model = Doc2Vec(vector_size=50, min_count=10, epochs=50)\n",
    "    # vocabulary building\n",
    "    model.build_vocab(tagged_data)\n",
    "   \n",
    "    print(type(tagged_data))\n",
    "    model.train(tagged_data, total_examples=model.corpus_count, epochs=model.epochs)\n",
    "    model_name = 'doc2vec_latest_pynb'\n",
    "    model.save(model_name)\n",
    "    print(\"Model saved\")\n",
    "    return model_name"
   ]
  },
  {
   "cell_type": "code",
   "execution_count": 105,
   "metadata": {},
   "outputs": [
    {
     "data": {
      "text/plain": [
       "[]"
      ]
     },
     "execution_count": 105,
     "metadata": {},
     "output_type": "execute_result"
    }
   ],
   "source": [
    "# model_name = train_model(X_train)\n",
    "# baseline_model = Doc2Vec.load(model_name)\n",
    "X_train[:2]\n",
    "tagged_x = tag_document(X_train[:3])\n",
    "list(tagged_x)[:1]\n",
    "# train_data = list(tagged_x)\n",
    "# train_data[:1]\n",
    "# list(tagged_x)[0]\n",
    "# training_corpus = list(tagged_x)[0]\n",
    "# print(training_corpus[:2])"
   ]
  },
  {
   "cell_type": "code",
   "execution_count": 48,
   "metadata": {},
   "outputs": [],
   "source": [
    "# model_name = train_model(X_train)\n",
    "baseline_model = Doc2Vec.load('doc2Vec_latest_pynb')"
   ]
  },
  {
   "cell_type": "code",
   "execution_count": 50,
   "metadata": {},
   "outputs": [
    {
     "name": "stdout",
     "output_type": "stream",
     "text": [
      "['vedansh', 'shrivastavavedansh', 'gmail', 'com', 'bhopal', 'dehradun', 'education', 'bachelor', 'of', 'technology', 'b', 'tech', 'computer', 'science', 'with', 'specialization', 'in', 'bigdata', 'university', 'of', 'petroleum', 'and', 'energy', 'studies', 'senior', 'secondary', 'xii', 'science', 'delhi', 'public', 'school', 'cbse', 'board', 'year', 'of', 'completion', 'secondary', 'x', 'delhi', 'public', 'school', 'cbse', 'board', 'year', 'of', 'completion', 'internships', 'head', 'of', 'volunteers', 'arushi', 'ngo', 'bhopal', 'may', 'jun', 'the', 'internship', 'was', 'for', 'handling', 'the', 'physically', 'challenged', 'students', 'recording', 'books', 'for', 'visually', 'challenged', 'students', 'trainings', 'deep', 'learning', 'specialization', 'deeplearning', 'ai', 'online', 'oct', 'nov', 'machine', 'learning', 'stanford', 'university', 'coursera', 'online', 'mar', 'may', 'apache', 'spark', 'with', 'scala', 'hands', 'on', 'bigdata', 'udemy', 'online', 'feb', 'feb', 'projects', 'face', 'mask', 'detection', 'nov', 'nov', 'https', 'github', 'com', 'vedansh', 'face', 'mask', 'detection', 'i', 'used', 'computer', 'vison', 'for', 'this', 'purpose', 'by', 'using', 'pretrained', 'network', 'mobilenetv', 'and', 'using', 'mtcnn', 'to', 'make', 'bounding', 'box', 'around', 'the', 'face', 'opencv', 'was', 'used', 'for', 'real', 'time', 'face', 'mask', 'detection', 'face', 'recognition', 'nov', 'nov', 'https', 'github', 'com', 'vedansh', 'face', 'recognitioni', 'have', 'used', 'opencv', 'for', 'realtime', 'video', 'capture', 'mtcnn', 'to', 'detect', 'the', 'face', 'and', 'landmarks', 'in', 'the', 'frame', 'and', 'at', 'last', 'used', 'mobilenet', 'v', 'pre', 'trained', 'model', 'for', 'training', 'the', 'dataset', 'images', 'email', 'spam', 'detection', 'using', 'ml', 'and', 'data', 'science', 'and', 'python', 'may', 'may', 'used', 'ml', 'and', 'data', 'preprocessing', 'for', 'cleaning', 'up', 'the', 'data', 'and', 'used', 'nlp', 'natural', 'language', 'processing', 'algorithms', 'and', 'deep', 'learning', 'used', 'gaussian', 'nb', 'algorithm', 'for', 'modeling', 'the', 'data', 'accuracy', 'after', 'the', 'modeling', 'on', 'test', 'data', 'was', 'skills', 'python', 'intermediatemachine', 'learning', 'intermediate', 'data', 'analytics', 'intermediatems', 'o', 'ce', 'intermediate', 'ms', 'excel', 'intermediatec', 'programming', 'intermediate', 'sql', 'intermediatenatural', 'language', 'processing', 'nlp', 'intermediate', 'big', 'data', 'analytics', 'intermediateenglish', 'pro', 'ciency', 'spoken', 'advanced', 'data', 'science', 'intermediateopencv', 'intermediate', 'neural', 'networks', 'intermediatedeep', 'learning', 'intermediate', 'computer', 'vision', 'intermediateenglish', 'pro', 'ciency', 'written', 'advanced', 'work', 'samples', 'github', 'pro', 'le', 'https', 'github', 'com', 'vedansh', 'other', 'portfolio', 'link', 'https', 'www', 'linkedin', 'com', 'in', 'vedansh', 'shrivastava', 'additional', 'details', 'i', 'have', 'also', 'worked', 'on', 'many', 'datasets', 'like', 'titanic', 'census', 'income', 'dataset', 'black', 'friday', 'sales', 'loanprediction', 'ant', 'vs', 'bees', 'aerial', 'cactus', 'identication', 'mnist', 'and', 'many', 'more', 'which', 'can', 'be', 'found', 'on', 'mygithub', 'prole']\n"
     ]
    }
   ],
   "source": [
    "resume = read_and_clean_resume_pdf('resume1.pdf')\n",
    "# print(\"Resume \\n\", resume)\n",
    "resume_tokens = word_tokenize(resume)\n",
    "# print(resume_tokens)"
   ]
  },
  {
   "cell_type": "code",
   "execution_count": 71,
   "metadata": {},
   "outputs": [
    {
     "name": "stdout",
     "output_type": "stream",
     "text": [
      "['parttime', 'store', 'clerk', 'job', 'id', '20412021', 'location', '509', 'n', 'ankeny', 'blvd', 'ankeny', 'ia', '50021', 'type', 'regular', 'parttime', 'nonexempt', 'starting', 'pay', 'rate', '1500hour', 'some', 'weekend', 'availability', 'required', 'have', 'you', 'been', 'looking', 'for', 'retail', 'work', 'that', 'supports', 'a', 'great', 'mission', 'are', 'you', 'passionate', 'about', 'upcycling', 'and', 'thrifting', 'check', 'out', 'how', 'good', 'your', 'workday', 'could', 'be', 'as', 'a', 'store', 'clerk', 'for', 'goodwill', 'by', 'joining', 'our', 'retail', 'team', 'as', 'a', 'store', 'clerk', 'your', 'work', 'will', 'aid', 'our', 'mission', 'of', 'improving', 'the', 'quality', 'of', 'life', 'for', 'all', 'individuals', 'by', 'providing', 'skills', 'training', 'and', 'helping', 'people', 'find', 'jobs', 'you', 'will', 'be', 'the', 'first', 'point', 'of', 'contact', 'for', 'goodwill', 'customers', 'and', 'the', 'face', 'they', 'remember', 'we', 'are', 'looking', 'for', 'enthusiastic', 'individuals', 'who', 'want', 'to', 'provide', 'excellent', 'customer', 'service', 'and', 'take', 'pride', 'in', 'working', 'with', 'valuable', 'donations', 'from', 'our', 'community', 'you', 'will', 'also', 'assist', 'in', 'spreading', 'our', 'mission', 'by', 'informing', 'customers', 'they', 'helped', 'someone', 'get', 'a', 'job', 'last', 'year', 'alone', 'goodwill', 'of', 'central', 'iowa', 'helped', 'more', 'than', '800', 'people', 'find', 'employment', 'and', 'over', '14000', 'gain', 'skills', 'needed', 'for', 'a', 'rewarding', 'career', 'what', 'youll', 'do', 'here', 'greet', 'assist', 'and', 'engage', 'with', 'customers', 'in', 'a', 'helpful', 'and', 'courteous', 'manner', 'receive', 'donations', 'from', 'the', 'public', 'sort', 'donations', 'stack', 'and', 'organize', 'sorted', 'merchandise', 'ensure', 'quality', 'of', 'goods', 'processed', 'meets', 'standards', 'work', 'with', 'supervisors', 'to', 'arrange', 'and', 'rotate', 'items', 'on', 'the', 'sales', 'floor', 'keep', 'merchandise', 'organized', 'and', 'easily', 'accessible', 'to', 'customers', 'practice', 'safe', 'cash', 'handling', 'and', 'operate', 'the', 'cash', 'register', 'including', 'calculating', 'and', 'balancing', 'cash', 'register', 'as', 'scheduled', 'carryout', 'general', 'cleaning', 'tasks', 'such', 'as', 'sweeping', 'scrubbing', 'dusting', 'and', 'mopping', 'use', 'a', 'dolly', 'wheeled', 'cart', 'pallet', 'jack', 'and', 'possibly', 'riding', 'or', 'walk', 'behind', 'forklift', 'meet', 'daily', 'production', 'goals', 'other', 'duties', 'as', 'assigned', 'what', 'you', '’', 'll', 'need', 'excellent', 'customer', 'service', 'skills', 'a', 'high', 'school', 'diploma', 'or', 'currently', 'attending', 'high', 'school', 'or', 'ged', 'classes', 'or', 'a', 'minimum', 'of', 'four', 'years', 'of', 'any', 'combination', 'of', 'military', 'service', 'high', 'school', 'or', 'related', 'fulltime', 'paid', 'employment', 'availability', 'to', 'work', 'days', 'evenings', 'and', 'weekends', 'ability', 'to', 'carry', 'lift', 'push', 'or', 'pull', '40', 'pounds', 'ability', 'to', 'tolerate', 'variations', 'in', 'work', 'environment', 'temperature', 'ability', 'to', 'stand', 'for', 'long', 'periods', 'of', 'time', 'be', 'at', 'least', '16', 'years', 'of', 'age', 'effective', 'communication', 'and', 'basic', 'math', 'skills', 'must', 'be', 'able', 'to', 'pass', 'a', 'criminal', 'background', 'check', 'and', 'a', 'dependent', 'adult', 'and', 'child', 'abuse', 'background', 'check', 'ideal', 'candidates', 'will', 'be', 'a', 'team', 'player', 'who', 'is', 'eager', 'to', 'work', 'with', 'a', 'variety', 'of', 'people', 'in', 'a', 'helpful', 'upbeat', 'manner', 'have', 'retail', 'experience', 'and', 'familiarity', 'with', 'using', 'pointofsale', 'pos', 'systems', 'perks', 'in', 'addition', 'to', 'working', 'in', 'a', 'fun', 'environment', 'with', 'a', 'fulfilling', 'mission', 'candidates', 'for', 'this', 'role', 'can', 'also', 'expect', 'a', 'competitive', 'retail', 'industry', 'salary', 'for', 'fulltime', 'candidates', 'an', 'excellent', 'benefits', 'package', 'including', 'medicaldentalvision', 'longshortterm', 'disability', '403b', 'plan', 'paid', 'time', 'off', 'pto', 'flexible', 'spending', 'plan', 'and', 'life', 'insurance', 'a', '15', 'discount', 'at', 'our', 'retail', 'stores', 'a', 'unique', 'work', 'environment', 'with', 'interesting', 'products', 'and', 'a', 'diverse', 'clientele', 'never', 'the', 'same', 'day', 'or', 'the', 'same', 'donation', 'twice', 'the', 'ability', 'to', 'take', '10000', 'steps', 'per', 'shift', 'this', 'role', 'will', 'keep', 'you', 'active', 'and', 'healthy', 'goodwill', 'of', 'central', 'iowa', 'and', 'our', 'affiliates', 'are', 'affirmative', 'action', 'equal', 'opportunity', 'employers', 'eoemfvetdisability', 'and', 'everify', 'participants', 'apply', 'today', 'open', 'interviews', 'every', 'tuesday', 'cityview', 'best', 'local', 'thrift', 'shop', '2018', '2019', 'and', '2020', 'winner', 'job', 'types', 'fulltime', 'parttime']\n"
     ]
    }
   ],
   "source": [
    "test_jd = X_test[24]\n",
    "print(test_jd)\n",
    "test_jd = filter_punctuation(test_jd)\n",
    "# test_jd\n",
    "# string.punctuation"
   ]
  },
  {
   "cell_type": "code",
   "execution_count": 121,
   "metadata": {},
   "outputs": [
    {
     "name": "stdout",
     "output_type": "stream",
     "text": [
      "[-0.79615664  2.0496933  -3.710262    2.3002439  -1.9355851   2.0683818\n",
      " -1.0377407   0.44553    -4.7310266   1.9009143  -0.9832995  -1.630151\n",
      "  0.39742747  4.949778    2.2433662   1.6613435   0.9010183  -0.02044732\n",
      "  0.4024497   0.14856085  1.1665983  -2.8814588  -0.7574075   1.8949652\n",
      " -0.56534064 -2.1479695  -2.2632341   1.610586   -1.2831848  -1.4628993\n",
      "  2.754947    2.859974    0.6548168   1.9437877  -0.5107176  -1.1868858\n",
      " -0.9437332  -4.1944766  -0.25953102 -1.3360353  -0.36016396 -0.6593772\n",
      " -0.6282683  -1.5428878  -0.02956845  2.1297455  -1.9636341  -0.5933804\n",
      "  2.2594023   0.00584629]\n",
      "[-0.5202444   0.48078534 -0.46594632 -2.4538963  -2.7204158  -0.1848196\n",
      "  0.55382746 -1.5595003  -0.4827493  -1.1593653  -0.15400176 -0.5057762\n",
      "  1.9684969   1.1163969   1.4469483  -0.68277186 -2.2832112  -0.81727505\n",
      " -1.8638242   2.0957997   0.71377605  0.18107471  0.05174188 -0.44147855\n",
      " -2.1581647   0.8624479   0.28595883  0.3098966   1.3386638  -0.84458137\n",
      "  2.1193812   0.30126932 -0.77833563  0.18185557 -2.7033062   1.3027201\n",
      " -1.8490691  -1.6247363  -0.49958447 -0.69811827 -2.2522292   2.3822017\n",
      "  1.5115805  -0.00777056  0.872983   -1.363433   -0.8716983   0.69844985\n",
      "  0.5994444  -1.0557238 ]\n",
      "Baseline Cosin Similarity:\n",
      " 0.158\n"
     ]
    }
   ],
   "source": [
    "v1 = baseline_model.infer_vector(resume_tokens)\n",
    "v2 = baseline_model.infer_vector(test_jd)\n",
    "print(v1)\n",
    "print(v2)\n",
    "\n",
    "cos_sim = (np.dot(np.array(v1), np.array(v2))) / (np.linalg.norm(np.array(v1)) * np.linalg.norm(np.array(v2)))\n",
    "print(\"Baseline Cosin Similarity:\\n\", round(cos_sim, 3))\n"
   ]
  },
  {
   "cell_type": "code",
   "execution_count": 111,
   "metadata": {},
   "outputs": [
    {
     "name": "stdout",
     "output_type": "stream",
     "text": [
      "[TaggedDocument(words=['hello', 'we', 'are', 'looking', 'to', 'fill', 'dishwasher', 'position', 'in', 'our', 'brand', 'new', 'indian', 'restaurant', 'on', 'rainbow', 'and', '215', 'bilingual', 'speakers', 'are', 'welcome', 'to', 'apply', 'we', 'are', 'also', 'looking', 'for', 'other', 'positions', 'like', 'kitchen', 'helper', 'line', 'cooks', 'etc', 'please', 'mention', 'the', 'position', 'you', 'are', 'applying', 'for', 'job', 'type', 'fulltime', 'pay', '975', '1050', 'per', 'hour', 'benefits', 'employee', 'assistance', 'program', 'referral', 'program', 'physical', 'setting', 'bar', 'casual', 'dining', 'restaurant', 'fine', 'dining', 'restaurant', 'schedule', '10', 'hour', 'shift', '12', 'hour', 'shift', '8', 'hour', 'shift', 'day', 'shift', 'evening', 'shift', 'every', 'weekend', 'holidays', 'monday', 'to', 'friday', 'weekend', 'availability', 'ability', 'to', 'commuterelocate', 'las', 'vegas', 'nv', 'reliably', 'commute', 'or', 'planning', 'to', 'relocate', 'before', 'starting', 'work', 'preferred', 'work', 'location', 'one', 'location'], tags=[0])]\n"
     ]
    }
   ],
   "source": [
    "# training_corpus = list(tagged_x)\n",
    "training_data = list(tag_document(X_train))\n",
    "print(list(training_data)[:1])\n"
   ]
  },
  {
   "cell_type": "code",
   "execution_count": 117,
   "metadata": {},
   "outputs": [
    {
     "name": "stdout",
     "output_type": "stream",
     "text": [
      "Counter({0: 690})\n"
     ]
    }
   ],
   "source": [
    "# assesing the model\n",
    "\n",
    "ranks = []\n",
    "second_ranks = []\n",
    "for doc_id in range(len(training_data)):\n",
    "    inferred_vector = baseline_model.infer_vector(training_data[doc_id].words)\n",
    "    sims = baseline_model.dv.most_similar([inferred_vector], topn=len(baseline_model.dv))\n",
    "    rank = [docid for docid, sim in sims].index(doc_id)\n",
    "    ranks.append(rank)\n",
    "\n",
    "    second_ranks.append(sims[1])\n",
    "\n",
    "counter = Counter(ranks)\n",
    "print(counter)"
   ]
  },
  {
   "cell_type": "code",
   "execution_count": 118,
   "metadata": {},
   "outputs": [
    {
     "name": "stdout",
     "output_type": "stream",
     "text": [
      "Document (689): «description please note the anticipated schedule for this position will be from 1000 pm to 630 am tuesday through saturday here at the washington state department of veterans affairs wdva we are passionate about our mission of “ serving those who served ” as a national leader in our advocacy for more than 500000 veterans and their family members we strive to connect them to earned benefits as well as innovative programs focused on their overall health and wellness in addition we provide critical community services through a variety of programs and at our four state veterans homes located in orting port orchard spokane and walla walla these locations provide medicare and medicaid nursing home care to honorably discharged veterans including in some instances their spouses widows or gold star we are in need of a nightshift rn2 to provide nursing related care to residents in our spokane veterans home this includes assistance with activities of daily living monitoring and recording all aspects of care passing medications administering oxygen and more lend direction to your patients as well as a caring attitude bring a smile and your vital knowledge to everyone every day connect with your goals and change lives by applying now duties some of what you will be doing preparing and revising treatment plans for residents based on personal observations and recommendations passing medications administering monitoring and recording treatments and assessing conditions administering oxygen irrigations colostomy and trach care etc making assessments and examining residents to determine medical care needs monitoring and recording all aspects of care assisting residents with positioning transferring and ambulation monitoring and keeping a safe environment including preventative infection control qualifications required qualifications current and valid washington state license to practice as a registered nurse ability to follow accurate methods and practices of nursing and restorative care personal hygiene and sanitation methods record keeping report preparation infection control procedures and resident rights ability to assess evaluate and participate in the development of appropriate plans of care plan implement and document appropriate discharge planning for residents when appropriate perform selected nursing procedures ability to speak read and write in english for medical charts capable of lifting up to 60 lbs frequently using proper techniques capable of reaching for activities such as repositioning or to gain access to supplies capable of pushing or pulling with sufficient strength preferred qualifications long term care experience one year experience as a rn supplemental information application process the top candidates will be contacted directly to interview for this position because the selection will be based on information provided by you it is in your best interest to identify the knowledge skills and abilities that address the mandatory and desirable qualifications described below please include the following documents with your application 1 a letter of interest describing specific qualifications 2 a current resume detailing applicable experience and education finalists will be asked to provide a list of at least three professional references with current telephone numbers other information per governor inslee ’ s proclamation 2114 download pdf reader state employees must be fully vaccinated no later than october 18 2021 your vaccine status will be verified at new employee orientation please reach out to the hr office at hrdvawagov if you need information on medical or religious accommodation prior to a new hire a background check including criminal record history will be conducted information from the background check will not necessarily preclude employment but will be considered in determining the applicants suitability and competence to perform in the position must comply with health screening requirements by undergoing a tuberculosis skin test positions requiring travel must have a valid unrestricted drivers license and must be insured if driving a privately owned vehicle on state business this position is represented by wsna applicants wishing to claim veterans preference should attach a copy of their dd214 member 4 copy ngb 22 or signed verification of service letter from the united states department of veterans affairs to their application please blackout any personally identifiable data such as social security numbers for further information please contact us at recruitersdvawagov diversity equity and inclusion employer here at your washington department of veterans affairs our employees come from all walks of life we strive to hire great people from a wide variety of backgrounds all qualified applicants will receive consideration for employment without regard to race color religion gender gender identity or expression sexual orientation national origin genetics disability age or veteran status we believe in the importance of recognizing the value each of us contribute to the success of the mission of the agency having a diverse workforce is this agency ’ s greatest resource of strength and knowledge it is through the combination of talents and abilities that we can pursue finding effective measures on how we can provide the best customer service we are committed to building a diverse and inclusive workplace for everyone the state of washington is an equal opportunity employer persons with a disability who need assistance in the application process or testing process or those needing this announcement in an alternative format may call 360 7252183 tty users should first call 711 to access the washington relay service you are welcome to include the name and pronoun you would like to be referred to in your materials and we will honor this as you interact with our awardwinning diverse and inclusive organization if you have any questions regarding this announcement program or the agency please contact us at recruitersdvawagov»\n",
      "\n",
      "SIMILAR/DISSIMILAR DOCS PER MODEL Doc2Vec(dm/m,d50,n5,w5,mc10,s0.001,t3):\n",
      "\n",
      "MOST (689, 0.9935551285743713): «description please note the anticipated schedule for this position will be from 1000 pm to 630 am tuesday through saturday here at the washington state department of veterans affairs wdva we are passionate about our mission of “ serving those who served ” as a national leader in our advocacy for more than 500000 veterans and their family members we strive to connect them to earned benefits as well as innovative programs focused on their overall health and wellness in addition we provide critical community services through a variety of programs and at our four state veterans homes located in orting port orchard spokane and walla walla these locations provide medicare and medicaid nursing home care to honorably discharged veterans including in some instances their spouses widows or gold star we are in need of a nightshift rn2 to provide nursing related care to residents in our spokane veterans home this includes assistance with activities of daily living monitoring and recording all aspects of care passing medications administering oxygen and more lend direction to your patients as well as a caring attitude bring a smile and your vital knowledge to everyone every day connect with your goals and change lives by applying now duties some of what you will be doing preparing and revising treatment plans for residents based on personal observations and recommendations passing medications administering monitoring and recording treatments and assessing conditions administering oxygen irrigations colostomy and trach care etc making assessments and examining residents to determine medical care needs monitoring and recording all aspects of care assisting residents with positioning transferring and ambulation monitoring and keeping a safe environment including preventative infection control qualifications required qualifications current and valid washington state license to practice as a registered nurse ability to follow accurate methods and practices of nursing and restorative care personal hygiene and sanitation methods record keeping report preparation infection control procedures and resident rights ability to assess evaluate and participate in the development of appropriate plans of care plan implement and document appropriate discharge planning for residents when appropriate perform selected nursing procedures ability to speak read and write in english for medical charts capable of lifting up to 60 lbs frequently using proper techniques capable of reaching for activities such as repositioning or to gain access to supplies capable of pushing or pulling with sufficient strength preferred qualifications long term care experience one year experience as a rn supplemental information application process the top candidates will be contacted directly to interview for this position because the selection will be based on information provided by you it is in your best interest to identify the knowledge skills and abilities that address the mandatory and desirable qualifications described below please include the following documents with your application 1 a letter of interest describing specific qualifications 2 a current resume detailing applicable experience and education finalists will be asked to provide a list of at least three professional references with current telephone numbers other information per governor inslee ’ s proclamation 2114 download pdf reader state employees must be fully vaccinated no later than october 18 2021 your vaccine status will be verified at new employee orientation please reach out to the hr office at hrdvawagov if you need information on medical or religious accommodation prior to a new hire a background check including criminal record history will be conducted information from the background check will not necessarily preclude employment but will be considered in determining the applicants suitability and competence to perform in the position must comply with health screening requirements by undergoing a tuberculosis skin test positions requiring travel must have a valid unrestricted drivers license and must be insured if driving a privately owned vehicle on state business this position is represented by wsna applicants wishing to claim veterans preference should attach a copy of their dd214 member 4 copy ngb 22 or signed verification of service letter from the united states department of veterans affairs to their application please blackout any personally identifiable data such as social security numbers for further information please contact us at recruitersdvawagov diversity equity and inclusion employer here at your washington department of veterans affairs our employees come from all walks of life we strive to hire great people from a wide variety of backgrounds all qualified applicants will receive consideration for employment without regard to race color religion gender gender identity or expression sexual orientation national origin genetics disability age or veteran status we believe in the importance of recognizing the value each of us contribute to the success of the mission of the agency having a diverse workforce is this agency ’ s greatest resource of strength and knowledge it is through the combination of talents and abilities that we can pursue finding effective measures on how we can provide the best customer service we are committed to building a diverse and inclusive workplace for everyone the state of washington is an equal opportunity employer persons with a disability who need assistance in the application process or testing process or those needing this announcement in an alternative format may call 360 7252183 tty users should first call 711 to access the washington relay service you are welcome to include the name and pronoun you would like to be referred to in your materials and we will honor this as you interact with our awardwinning diverse and inclusive organization if you have any questions regarding this announcement program or the agency please contact us at recruitersdvawagov»\n",
      "\n",
      "SECOND-MOST (490, 0.669577956199646): «please attach the additional requirements listed at the bottom of this page job id 17503 agency department of social servicesdivision of child protection location hot springs deadwood or sturgis salary 2149 per hour pay grade gi closing date 102621 this is a fulltime 40 hours weekly position with the department of social services for more information on the department of social services please visit httpsdsssdgov our culture family focused person centered at our organization it is the belief that every south dakota family has the right to be safe and secure we believe in respecting individuals and cultural differences by treating people with dignity fairness and respect our department build strong families south dakotas foundation and our future the department of social services aims to strengthen and support individuals and families connecting them with resources to foster independent and healthy lives our team dependable committed compassionate as a member of the department of social services you will be part of a team of professionals who are dependable committed and compassionate we believe collaborative communication teamwork partnerships and trust are foundational to the delivery of essential family services this position develops and implements alternative placement plans for children when reunification efforts with their families are unsuccessful including legal guardianship adoption or transitioning older youth to adulthood the position supports families and children in dealing with separation and attachment issues in preparation for permanent placements actively seeks placement options for specific children and recommends placements coordinates adoptive placements through preadoptive visits and family preparation to ensure children ’ s needs are met negotiates adoptionguardianship subsidies with permanent families reviews children ’ s psychosocial medical developmental and educational histories and ensures identified needs are being met provides training and consultation or other services to adoptive or fosterkinship parents develops and monitors individual case plans for children with alternative care providers maintains children in a variety of placements to include foster care kinship care preadoptive care and facilities responds to emergency removal situations and placement disruptions incumbent may be required to work a flexible schedule which may include evening night holiday and weekend hours emergency response duties are required in and outofstate travel may be required who we want a highly motivated and experienced person with a passion for serving the public and displays a high level of effort and commitment towards completing assignments and goals a compassionate individual who listens attentively to others and clearly conveys information and ideas a dependable and organized individual who effectively plans and organizes work activities a person who is dedicated and who will represent the department of social service with integrity and enthusiasm an individual who works cooperatively with others and promotes a friendly work climate in order to achieve shared goals what you will do gather detailed information from the public regarding reports of alleged child abuse andor neglect complete assessments with families alleged to have maltreated their children including analysis of danger threats to children provide intervention services with families after a determination has occurred that conditions in the home threaten child safety work with the court system including testifying when children are placed in the custody of the state finding foster and adoptive families for children recruit foster and adoptive homes monitor and evaluate existing kinship foster and adoptive homes respond to emergencies regarding reports of alleged child abuse andor neglect on a 24hour basis the ideal candidate will have a bachelors degree in social work psychology sociology public administration or other human servicerelated fields may be considered as applicable to the entrylevel knowledge skills and abilities a bachelors degree and experience working with children will also be considered knowledge skills and abilities communicate effectively and efficiently successfully plan and organize work activities adjust to multiple demands and prioritize tasks to complete assignments and meet schedules and deadlines demonstrate compassion respect courtesy and tact when interacting with others display confidence and innovation despite adversity establish and maintain effective and collaborative working relationships with stakeholders understand concepts related to client confidentiality comprehend interpret and apply policies procedures laws and regulations prepare clear and concise documentation reports and correspondence that reflect relevant facts conceptualize needed change and initiate appropriate activities to move from concepts to implementation equally important will be a strong work ethic and the comprehension of critical thinking and problemsolving techniques if you believe in strengthening and supporting strong families and investing in south dakotas future you may have found the dream job youve been waiting for to be considered you must complete a dss questionnaire specific to this job and attach it to your application adobe reader is required you can download the software for free from httpsgetadobecomreader steps click httpbhrsdgovdssqfssgeneralistpdf to access the questionnaire save or download the questionnaire to your computer do not complete the questionnaire online within your browser you may lose entered information open the saved questionnaire and complete once complete select file and then save as save the questionnaire to include your last name in the file name to ensure your information is saving complete a small section save as and open attach the questionnaire to the attachments section of your application as the dss questionnaire document type veterans preference eligible successful applicants will be required to undergo a background investigation an arrestconviction record will not necessarily bar employment successful applicants will undergo an abuse and neglect screening the state of south dakota does not sponsor work visas for new or existing employees all persons hired will be required to verify identity and eligibility to work in the united states and complete an employment eligibility verification form i9 the state of south dakota as an employer will be using everify to complete employment eligibility verification upon hire the state of south dakota offers employer paid health insurance plus ten paid holidays generous vacation and sick leave accrual dental vision and other insurance options and retirement benefits you can view our benefits information at httpsbhrsdgovjobseekersworkforstategovernment this position is a member of class a retirement under sdrs must apply online httpssodakprodlm01cloudinforcom1443lmghrxmlhttpshorturldokeyfrb you must apply online emailed resumes or submissions will not be accepted south dakota bureau of human resources telephone 6057733148 email careersstatesdus httpbhrsdgovworkforus an equal opportunity employer apply now save to job cart»\n",
      "\n",
      "MEDIAN (402, 0.13509465754032135): «company description starcom is the human experience company a worldrenowned media communications agency we believe the alchemy of people and technology creates experiences people love and actions brands need with more than 5000 employees worldwide starcom partners with the worlds leading marketers and new establishment brands including airbnb cocacola fiat chrysler automobiles kellogg company kraft heinz samsung visa and more starcom is part of publicis media one of four solution hubs within publicis groupe euronext paris fr0000130577 cac40 and has offices within publicis one starcom is an equal opportunity employer job description starcom is seeking a sr data engineer to join its advanced analytics and insights team this role will contribute towards building custom datadriven applications for decision support data exploration and analytics enablement this role also provide support to data scientists and analysts providing automation and incorporating their methodologies into applications for scaling across the organization responsibilities develop create and modify general computer applications software design implement deploy and manage etl packages using sql server integration services transfer data of various types mainly flat files and json from various sources using ftp sftp web apis into uniform sql server database scheme implement custom solutions written in net c andor python for etl when required embrace solid agile development practices such as unit testing code reviews and design documentation optimize program code database scripts and packages to improve application performance provide production support of automated jobs etl jobs and related database tasks analyze user requirements into technical solutions according to specifications evaluate and prototype new technologies in the area of data processing responsible for critical system uptime including ondemand outofoffice hours job66305396 qualifications master ’ s degree in computer science engineering or related field and 2 years of work experience in job offered or 2 years of work experience in a related occupation experience must include one year of experience with each of the following 1 sql 2 microsoft sql server 3 sql server integration services 4 net c 5 data modeling 6 etl 7 microsoft visual studio 8 microsoft team foundation server and visual studio team services now azure devops server 9 git must be available to work on projects at various unanticipated sites throughout the united states additional information all your information will be kept confidential according to eeo guidelines»\n",
      "\n",
      "LEAST (55, -0.2610968351364136): «division savannah river department statesboro distribution on premise work schedule mondayfriday with weekend work why you will love cocacola united about us privately owned and operated with 100 years of historical strength and stability dedicated to supporting internal career growth through on job training learning and opportunity for career advancement excellent total value benefits package to include two weeks paid vacation within first year comprehensive medical preferred provider plan 35 physical copay 15 teladoc copay dental vision flex spending employee assistance program company paid life insurance 50000 additional optional insurance accident critical illness universal life home auto paid maternity paternity leave paid holiday sick time 401k match 50 on first 6 plus an additional annual match of up to 3 exclusive employee discounts cell phone event tickets gym membership car buying hotels car rentals technology needs and much more competitive compensation fast paced environment promotes a healthy lifestyle for qualified candidates we offer an amazing cdl tuition program reimbursable up to 5250 for cdl school tuition – ask your recruiter for details job description the delivery merchandiser – on premise is responsible for delivering and rotating stock also responsible for merchandising shelves racks equipment and displays to company standards what your day will look like transports and unloads products to retail outlets responsible for merchandising all product inside the outlet to company standards works in partnership with the sales supervisor to execute the picture of success establish positive relationships with all customers as well as providing superior customer service provides feedback and recommendations to leadership on competitive threats and business opportunities as they arise ability to work with all functional team members sets up merchandise and sales promotion displays communicates any store level issue to management complies with dot rules for driving purposes maintains rapport with customers collection of any breakage or out of date product including empty shells and pallets accurate accounting for all cases and customer transactions ensure proper care of product equipment and route settlement daily deliver rotate and merchandise product on shelf displays and all cold equipment maintains backstock in an organized manner keeps coolers racks and shelves clean assist with training coaching succession planning of any delivery merchandiser trainees build strong relationships with customer base across assigned customers what you need to succeed minimum of 21 years old minimum of 18 years old valid drivers license required and obligation to maintain compliance with united fleet policy class a commercial driver ’ s license required and obligation to maintain compliance with united fleet policy personal protective equipment ppe as required by position and compliance with united safety policies regular and prompt attendance is an essential function of the job ability to read write and speak english ability to maintain a neat professional appearance within company guidelines ability to maintain safety and security of company assets ability to utilize all company provided resources and technology the ability to maintain dot physical requirements ability to lift up to 50 lbs repetitively in fastpaced environment high school diploma or general education degree ged or 13 months related experience andor training or equivalent combination of education and experience ability to read and comprehend simple instructions short correspondence and memos ability to write simple correspondence ability to effectively present information in oneonone and small group situations to customers clients and other employees of the organization ability to add subtract multiply and divide in all units of measure using whole numbers common fractions and decimals ability to problem solve frequent standing and walking repeated exposure to weather ability to selfmotivate and able to perform job duties with minimal supervision ccbcu is an equal opportunity employer minoritieswomenveteransdisabled veteran friendly»\n",
      "\n"
     ]
    }
   ],
   "source": [
    "print('Document ({}): «{}»\\n'.format(doc_id, ' '.join(training_data[doc_id].words)))\n",
    "print(u'SIMILAR/DISSIMILAR DOCS PER MODEL %s:\\n' % baseline_model)\n",
    "for label, index in [('MOST', 0), ('SECOND-MOST', 1), ('MEDIAN', len(sims)//2), ('LEAST', len(sims) - 1)]:\n",
    "    print(u'%s %s: «%s»\\n' % (label, sims[index], ' '.join(training_data[sims[index][0]].words)))"
   ]
  },
  {
   "cell_type": "code",
   "execution_count": 120,
   "metadata": {},
   "outputs": [
    {
     "name": "stdout",
     "output_type": "stream",
     "text": [
      "Train Document (127): <<as a warehousedelivery driver you will be responsible for receiving and placing inventory into stock picking and packing orders for delivery timely and accurate delivery andor pickup of goods to specified locations loading and unloading trucks and trailers warehouse housekeeping and inventory control you will know youre a match to this position if you are a selfstarter organized and familiar with the delivery area previous warehouse experience maintenance experience andor delivery experience preferred primary duties load and unload trucks in an accurate and efficient manner become familiar with delivery routes and customers preferences perform warehouse duties when called upon which includes materials handling shipping and receiving picking and packing orders qualifications must be 21 years of age or older with a valid drivers license cdl not required current medical certification card or ability to obtain a card must meet companys requirements to drive company vehicles additionally drivers will be required to meet federal motor carrier safety regulations high school diploma or general education degree ged and six months related experience andor training or equivalent combination of education and experience family owned culture of quality opportunities to advance crescent is transforming and we are on a mission to power the communities we serve through teamwork and relentless customer focus we have a vision of uncompromising teamwork committed to becoming the industry leader for our employees suppliers and shareholders at crescent you will have the opportunity to develop professionally grow personally and have the flexibility to balance your lifes priorities lets serve together lets power our communities together lets become the industry leaders together crescent electric supply is an equal opportunity employer candidates are subject to preemployment assessments motor vehicle record review criminal background checks references check and a postoffer drug screen>>\n",
      "\n",
      "Similar Document (243, 0.6919657588005066): <<about us muse and muse transportationllc driving a 53ft dry van delivery to different states job type fulltime pay 150000 200000 per week schedule weekend availability supplemental pay quarterly bonus yearly bonus trucking driver type company driver experience driving 2 years preferred licensecertification cdl a preferred work location on the road work location on the road>>\n",
      "\n"
     ]
    }
   ],
   "source": [
    "import random\n",
    "doc_id = random.randint(0, len(training_data)-1)\n",
    "\n",
    "# compare and print the second most similar document\n",
    "print('Train Document ({}): <<{}>>\\n'.format(doc_id, ' '.join(training_data[doc_id].words)))\n",
    "sim_id = second_ranks[doc_id]\n",
    "print('Similar Document {}: <<{}>>\\n'.format(sim_id, ' '.join(training_data[sim_id[0]].words)))"
   ]
  },
  {
   "cell_type": "code",
   "execution_count": null,
   "metadata": {},
   "outputs": [],
   "source": []
  }
 ],
 "metadata": {
  "kernelspec": {
   "display_name": "base",
   "language": "python",
   "name": "python3"
  },
  "language_info": {
   "codemirror_mode": {
    "name": "ipython",
    "version": 3
   },
   "file_extension": ".py",
   "mimetype": "text/x-python",
   "name": "python",
   "nbconvert_exporter": "python",
   "pygments_lexer": "ipython3",
   "version": "3.9.12"
  },
  "orig_nbformat": 4,
  "vscode": {
   "interpreter": {
    "hash": "a12e877c04624be958b30f1ec8c927f186552dcee8ba212203c3dd40ba478394"
   }
  }
 },
 "nbformat": 4,
 "nbformat_minor": 2
}
